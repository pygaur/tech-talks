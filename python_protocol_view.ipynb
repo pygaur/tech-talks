{
  "nbformat": 4,
  "nbformat_minor": 0,
  "metadata": {
    "colab": {
      "name": "tech_talk (1).ipynb",
      "provenance": [],
      "private_outputs": true,
      "collapsed_sections": [],
      "include_colab_link": true
    },
    "kernelspec": {
      "display_name": "Python 3",
      "language": "python",
      "name": "python3"
    },
    "language_info": {
      "codemirror_mode": {
        "name": "ipython",
        "version": 3
      },
      "file_extension": ".py",
      "mimetype": "text/x-python",
      "name": "python",
      "nbconvert_exporter": "python",
      "pygments_lexer": "ipython3",
      "version": "3.7.9"
    }
  },
  "cells": [
    {
      "cell_type": "markdown",
      "metadata": {
        "id": "view-in-github",
        "colab_type": "text"
      },
      "source": [
        "<a href=\"https://colab.research.google.com/github/pygaur/tech-talks/blob/master/python_protocol_view.ipynb\" target=\"_parent\"><img src=\"https://colab.research.google.com/assets/colab-badge.svg\" alt=\"Open In Colab\"/></a>"
      ]
    },
    {
      "cell_type": "markdown",
      "metadata": {
        "colab_type": "text",
        "id": "3uHVKKSZENdt"
      },
      "source": [
        "To be effective in python,We require understanding of couple of core mental models of a language with understanding the things the language comes with.\n",
        "\n",
        "\n",
        "\n",
        "\n",
        "Like the ```built-in data types```, ```built-in functions``` and understanding of what's available in ```standard library```."
      ]
    },
    {
      "cell_type": "markdown",
      "metadata": {
        "colab_type": "text",
        "id": "1-iArkQ1E_WQ"
      },
      "source": [
        "Let's see how can we be more effective by understanding these concepts."
      ]
    },
    {
      "cell_type": "markdown",
      "metadata": {
        "colab_type": "text",
        "id": "f1mXYGtCFOQT"
      },
      "source": [
        "In this session we will talk about Four features of python.\n",
        "We will try to show how python is p`rotocol oriented language` with these examples.\n",
        "\n",
        "We will not talk about like the books talk.\n",
        "\n",
        "we will talk more about what these features mean for modeling core problems ."
      ]
    },
    {
      "cell_type": "markdown",
      "metadata": {
        "colab_type": "text",
        "id": "U_s8p9NMGMPT"
      },
      "source": [
        "Let's image we need to write a software for some math problem and let's design a polynomail.\n",
        "\n",
        "Let's create a class in python - "
      ]
    },
    {
      "cell_type": "code",
      "metadata": {
        "colab_type": "code",
        "id": "jfcg_M8bFMLX",
        "colab": {}
      },
      "source": [
        "class Polynomial(object):\n",
        "    \"\"\"\n",
        "    \"\"\"\n",
        "    pass"
      ],
      "execution_count": null,
      "outputs": []
    },
    {
      "cell_type": "markdown",
      "metadata": {
        "colab_type": "text",
        "id": "StqJDPPcGiUI"
      },
      "source": [
        "Let's create two polynomials -"
      ]
    },
    {
      "cell_type": "code",
      "metadata": {
        "colab_type": "code",
        "id": "tmkNHScSF_oV",
        "colab": {}
      },
      "source": [
        "class Polynomial(object):\n",
        "    \"\"\"\n",
        "    \"\"\"\n",
        "    pass\n",
        "\n",
        "p1 = Polynomial()\n",
        "p2 = Polynomial()\n",
        "\n",
        "p1.coeffs = 1, 2, 3    # x2 + 2x + 3 \n",
        "p2.coeffs = 2, 4, 5    # 2x2 + 4x + 4\n",
        "\n",
        "print(p1 )\n",
        "print(p2 )"
      ],
      "execution_count": null,
      "outputs": []
    },
    {
      "cell_type": "markdown",
      "metadata": {
        "colab_type": "text",
        "id": "m4eOWSYOHJyK"
      },
      "source": [
        "we would like to do few math operations on these polynomials\n",
        "\n",
        "*   add\n",
        "*   substract\n",
        "*   get details\n",
        "*   get length\n",
        "\n",
        "`etc...`\n",
        "\n"
      ]
    },
    {
      "cell_type": "markdown",
      "metadata": {
        "colab_type": "text",
        "id": "rpqmrkhnHSpm"
      },
      "source": [
        "any issue with above code ?\n",
        "\n",
        "why can't we do it in less lines. ? \n",
        "\n"
      ]
    },
    {
      "cell_type": "code",
      "metadata": {
        "colab_type": "code",
        "id": "7IJ9w9KSHR7i",
        "colab": {}
      },
      "source": [
        "class Polynomial(object):\n",
        "    \"\"\"\n",
        "    \"\"\"\n",
        "    def __init__(self, *coeffs):\n",
        "        \"\"\"\n",
        "        \"\"\"\n",
        "        self.coeffs = coeffs\n",
        "\n",
        "p1 = Polynomial(1, 2, 3 )\n",
        "p2 = Polynomial(2, 4, 5)\n",
        "\n",
        "print(p1)\n",
        "print(p2)"
      ],
      "execution_count": null,
      "outputs": []
    },
    {
      "cell_type": "markdown",
      "metadata": {
        "colab_type": "text",
        "id": "BCofnJTwIf7x"
      },
      "source": [
        "any other issue with above code ?\n",
        "\n",
        "looks ugly when we prints p1 and p2. ?"
      ]
    },
    {
      "cell_type": "code",
      "metadata": {
        "colab_type": "code",
        "id": "ilOZMYlBHRh0",
        "colab": {}
      },
      "source": [
        "class Polynomial(object):\n",
        "    \"\"\"\n",
        "    \"\"\"\n",
        "    def __init__(self, *coeffs):\n",
        "        \"\"\"\n",
        "        \"\"\"\n",
        "        self.coeffs = coeffs\n",
        "    \n",
        "    def __repr__(self):\n",
        "        \"\"\"\n",
        "        \"\"\"\n",
        "        return f\"Polynomial(*{self.coeffs})\"\n",
        "\n",
        "p1 = Polynomial(1, 2, 3 )\n",
        "p2 = Polynomial(2, 4, 5)\n",
        "\n",
        "print(p1)\n",
        "print(p2)"
      ],
      "execution_count": null,
      "outputs": []
    },
    {
      "cell_type": "code",
      "metadata": {
        "id": "8pH2Iqzw9lIG",
        "colab_type": "code",
        "colab": {}
      },
      "source": [
        ""
      ],
      "execution_count": null,
      "outputs": []
    },
    {
      "cell_type": "markdown",
      "metadata": {
        "colab_type": "text",
        "id": "ED1c65ZcJKCt"
      },
      "source": [
        "# **what if we want to add there polynomails ?**"
      ]
    },
    {
      "cell_type": "code",
      "metadata": {
        "colab_type": "code",
        "id": "ZZSR8Uv1Iqas",
        "colab": {}
      },
      "source": [
        "p1 + p2"
      ],
      "execution_count": null,
      "outputs": []
    },
    {
      "cell_type": "markdown",
      "metadata": {
        "colab_type": "text",
        "id": "bocYy0fFIJ1o"
      },
      "source": [
        "# **Let's see what can we do for this.**"
      ]
    },
    {
      "cell_type": "code",
      "metadata": {
        "colab_type": "code",
        "id": "yWz5xoPGJTKV",
        "colab": {}
      },
      "source": [
        "class Polynomial(object):\n",
        "    \"\"\"\n",
        "    \"\"\"\n",
        "    def __init__(self, *coeffs):\n",
        "        \"\"\"\n",
        "        \"\"\"\n",
        "        self.coeffs = coeffs\n",
        "    \n",
        "    def __repr__(self):\n",
        "        \"\"\"\n",
        "        \"\"\"\n",
        "        return f\"Polynomial(*{self.coeffs})\"\n",
        "    \n",
        "    def __add__(self, other):\n",
        "        \"\"\"\n",
        "        \"\"\"\n",
        "        return Polynomial(*(x+y for x,y in zip(self.coeffs, other.coeffs)))\n",
        "        \n",
        "p1 = Polynomial(1, 2, 3 )\n",
        "p2 = Polynomial(2, 4, 5)\n",
        "\n",
        "print(p1+p2)"
      ],
      "execution_count": null,
      "outputs": []
    },
    {
      "cell_type": "markdown",
      "metadata": {
        "colab_type": "text",
        "id": "8_5SgjizKMXb"
      },
      "source": [
        "can we see a pattern here ? \n",
        "\n",
        "we have some behaviour that we want to implement and python provies us a way to do this by using underscore functions.\n",
        "\n",
        "we python developer calls them magic method , dunder methods or double underscore methods."
      ]
    },
    {
      "cell_type": "markdown",
      "metadata": {
        "colab_type": "text",
        "id": "X7JHxYc3Keas"
      },
      "source": [
        "we also call them data model methods. \n",
        "\n",
        "link --> https://docs.python.org/3/reference/datamodel.html .\n",
        "\n",
        "This URL has all these methods at one place. \n",
        "When we want to implement some behavior in python. \n",
        "\n",
        "We want to tell  python for this arbitary object behaviour that give me something that is principle representation of this object."
      ]
    },
    {
      "cell_type": "markdown",
      "metadata": {
        "colab_type": "text",
        "id": "3T6rm5U1LWOW"
      },
      "source": [
        "Every top level function has corrospinding underscore method."
      ]
    },
    {
      "cell_type": "markdown",
      "metadata": {
        "colab_type": "text",
        "id": "Mob8sD4kLsVm"
      },
      "source": [
        "Exact argument this underscope methods takes will be determined by above document page.\n",
        "\n",
        "\n",
        "Example :  for __add__  (self , another)"
      ]
    },
    {
      "cell_type": "markdown",
      "metadata": {
        "colab_type": "text",
        "id": "KX65hNXeL6Kz"
      },
      "source": [
        "there is a pattern we are seeing, \n",
        "1. To add we are calling **\\_\\_add\\_\\_**\n",
        "2. To display we are calling **\\_\\_repr\\_\\_**"
      ]
    },
    {
      "cell_type": "markdown",
      "metadata": {
        "colab_type": "text",
        "id": "qwTtkhDsMEOX"
      },
      "source": [
        "what if we want length of polynomial ( which is highest degree of polynomial ) "
      ]
    },
    {
      "cell_type": "code",
      "metadata": {
        "colab_type": "code",
        "id": "3hsugQF1KY7a",
        "colab": {}
      },
      "source": [
        "class Polynomial(object):\n",
        "    \"\"\"\n",
        "    \"\"\"\n",
        "    def __init__(self, *coeffs):\n",
        "        \"\"\"\n",
        "        \"\"\"\n",
        "        self.coeffs = coeffs\n",
        "    \n",
        "    def __repr__(self):\n",
        "        \"\"\"\n",
        "        \"\"\"\n",
        "        return f\"Polynomial(*{self.coeffs})\"\n",
        "    \n",
        "    def __add__(self, other):\n",
        "        \"\"\"\n",
        "        \"\"\"\n",
        "        return Polynomial(*(x+y for x,y in zip(self.coeffs, other.coeffs)))\n",
        "    \n",
        "    def __len__(self):\n",
        "        \"\"\"\n",
        "        \"\"\"\n",
        "        return len(self.coeffs)\n",
        "\n",
        "p1 = Polynomial(1, 2, 3 )\n",
        "print(f\"Degree of polynomial is - {len(p1)}\")"
      ],
      "execution_count": null,
      "outputs": []
    },
    {
      "cell_type": "markdown",
      "metadata": {
        "colab_type": "text",
        "id": "SNez1PRuNMUb"
      },
      "source": [
        "If we want to implement - \n",
        "\n",
        "*   call protocol - **\\_\\_call\\_\\_ ,**\n",
        "*   compare - **\\_\\_hash\\_\\_**\n",
        "\n"
      ]
    },
    {
      "cell_type": "code",
      "metadata": {
        "colab_type": "code",
        "id": "Rz0DCERIMl92",
        "scrolled": true,
        "colab": {}
      },
      "source": [
        "class Polynomial(object):\n",
        "    \"\"\"\n",
        "    \"\"\"\n",
        "    def __init__(self, *coeffs):\n",
        "        \"\"\"\n",
        "        \"\"\"\n",
        "        self.coeffs = coeffs\n",
        "    \n",
        "    def __repr__(self):\n",
        "        \"\"\"\n",
        "        \"\"\"\n",
        "        return f\"Polynomial(*{self.coeffs})\"\n",
        "    \n",
        "    def __add__(self, other):\n",
        "        \"\"\"\n",
        "        \"\"\"\n",
        "        return Polynomial(*(x+y for x,y in zip(self.coeffs, other.coeffs)))\n",
        "    \n",
        "    def __len__(self):\n",
        "        \"\"\"\n",
        "        \"\"\"\n",
        "        return len(self.coeffs)\n",
        "    \n",
        "    def __call__(self):\n",
        "        \"\"\"\n",
        "        \"\"\"\n",
        "        print('I do not know why i did this.')\n",
        "        \n",
        "p1 = Polynomial(1, 2, 3 )\n",
        "p1()"
      ],
      "execution_count": null,
      "outputs": []
    },
    {
      "cell_type": "code",
      "metadata": {
        "id": "Xp_ghcwr9aFy",
        "colab_type": "code",
        "colab": {}
      },
      "source": [
        ""
      ],
      "execution_count": null,
      "outputs": []
    },
    {
      "cell_type": "code",
      "metadata": {
        "id": "-sn2QkTF9aF1",
        "colab_type": "code",
        "colab": {}
      },
      "source": [
        ""
      ],
      "execution_count": null,
      "outputs": []
    },
    {
      "cell_type": "code",
      "metadata": {
        "id": "PAz1ojbN9aF3",
        "colab_type": "code",
        "colab": {}
      },
      "source": [
        ""
      ],
      "execution_count": null,
      "outputs": []
    },
    {
      "cell_type": "code",
      "metadata": {
        "id": "a_hfUwXa9aF5",
        "colab_type": "code",
        "colab": {}
      },
      "source": [
        ""
      ],
      "execution_count": null,
      "outputs": []
    },
    {
      "cell_type": "markdown",
      "metadata": {
        "colab_type": "text",
        "id": "4MVt8IJkNjEg"
      },
      "source": [
        "Python has three majour views - \n",
        "1. protocol view of python ( talking right now ) \n",
        "2. built in inheritence \n",
        "2. how OO works in python\n"
      ]
    },
    {
      "cell_type": "markdown",
      "metadata": {
        "colab_type": "text",
        "id": "qz5DjROkOZZr"
      },
      "source": [
        "Now Let's talk about a feature you may have warned about.\n",
        "\n",
        "You must have seen this while using some python libraries like Django.\n",
        "\n",
        "People whisper about it but never use.\n",
        "\n",
        "Let's look into this new feature for our road to show it's conribution in explaining python's protocoal oriented view. "
      ]
    },
    {
      "cell_type": "markdown",
      "metadata": {
        "colab_type": "text",
        "id": "XhF1LE8AO8O7"
      },
      "source": [
        "Metaclass  ?\n",
        "complicated thing in the world , magical , makes no sense."
      ]
    },
    {
      "cell_type": "markdown",
      "metadata": {
        "colab_type": "text",
        "id": "Oo15oDd-PBp_"
      },
      "source": [
        "In really it's just a python feature.\n",
        "\n",
        "We just need to understand why and where to use it and mostly you do not need to use it all the time . "
      ]
    },
    {
      "cell_type": "markdown",
      "metadata": {
        "colab_type": "text",
        "id": "GJJjXu44PkBo"
      },
      "source": [
        "Let's imagine there are two groups working on a peice of software\n",
        "\n",
        "*   core team (Creating core libraries ) \n",
        "*   Vendor team (Use core libraries to solve business problems)\n",
        "\n"
      ]
    },
    {
      "cell_type": "markdown",
      "metadata": {
        "colab_type": "text",
        "id": "-gFB7YNmRxyL"
      },
      "source": [
        "**Core library code** - codebase is only managed by core team.\n",
        "\n",
        "\n",
        "**User libray code** -  Only managed by user team.\n",
        "Use core team's code.No way to change code of core team."
      ]
    },
    {
      "cell_type": "code",
      "metadata": {
        "colab_type": "code",
        "id": "gyQYI6IcRmcI",
        "colab": {}
      },
      "source": [
        "# library.py\n",
        "\n",
        "class Base(object):\n",
        "    \"\"\"\n",
        "    \"\"\"\n",
        "    pass"
      ],
      "execution_count": null,
      "outputs": []
    },
    {
      "cell_type": "code",
      "metadata": {
        "colab_type": "code",
        "id": "GOXpOdqoR2jS",
        "colab": {}
      },
      "source": [
        "# user.py\n",
        "# from . import Base\n",
        "class Derived(Base):\n",
        "    \"\"\"\n",
        "    \"\"\"\n",
        "    pass"
      ],
      "execution_count": null,
      "outputs": []
    },
    {
      "cell_type": "markdown",
      "metadata": {
        "colab_type": "text",
        "id": "0fO4CEycOKPq"
      },
      "source": [
        "# Let's add some more code................\n"
      ]
    },
    {
      "cell_type": "code",
      "metadata": {
        "colab_type": "code",
        "id": "tj_4sSmbP0i5",
        "colab": {}
      },
      "source": [
        "# library.py\n",
        " \n",
        "class Base(object):\n",
        "    def foo(self):\n",
        "        return 'FOO'"
      ],
      "execution_count": null,
      "outputs": []
    },
    {
      "cell_type": "code",
      "metadata": {
        "colab_type": "code",
        "id": "1DHHDNiARPXl",
        "colab": {}
      },
      "source": [
        "# user.py\n",
        "# from . import Base\n",
        "\n",
        "class Derived(Base):\n",
        "    def bar(self):\n",
        "         return self.foo()"
      ],
      "execution_count": null,
      "outputs": []
    },
    {
      "cell_type": "markdown",
      "metadata": {
        "colab_type": "text",
        "id": "T36swpfrSgrT"
      },
      "source": [
        "where can above code break ???\n",
        "\n",
        "if no `foo` method , what can we do to make sure library has `foo` method .\n",
        "\n",
        "can we know it before it hits the runtime deployment.?\n",
        "\n",
        "what can we do make sure our code never breaks in production runtime ??"
      ]
    },
    {
      "cell_type": "code",
      "metadata": {
        "colab_type": "code",
        "id": "arT1QGJtRr8f",
        "colab": {}
      },
      "source": [
        "# library.py\n",
        " \n",
        "class Base(object):\n",
        "    \"\"\"\n",
        "    \"\"\"\n",
        "    pass\n",
        "    \n",
        "\n",
        "# user.py\n",
        "# from . import Base\n",
        "\n",
        "assert hasattr(Base, 'foo'), 'Bad library class...'\n",
        "class Derived(Base):\n",
        "\n",
        "     def bar(self):\n",
        "         return self.foo() "
      ],
      "execution_count": null,
      "outputs": []
    },
    {
      "cell_type": "markdown",
      "metadata": {
        "colab_type": "text",
        "id": "T265ygRvRDIy"
      },
      "source": [
        "With above code we are enforcing some constraints on user code. \n",
        "\n",
        "Derived class is inforcing contraints on base class. \n",
        "\n",
        "If you do not have this method , i wil fail loudly. "
      ]
    },
    {
      "cell_type": "markdown",
      "metadata": {
        "colab_type": "text",
        "id": "3vl40F7xTtCx"
      },
      "source": [
        "# ***Let's ԀI˥Ⅎ it here.***\n",
        "\n"
      ]
    },
    {
      "cell_type": "code",
      "metadata": {
        "colab_type": "code",
        "id": "3_V8OVMFTxmm",
        "colab": {}
      },
      "source": [
        "# library.py\n",
        "\n",
        "class Base(object):\n",
        "    \"\"\"\n",
        "    \"\"\"\n",
        "    def foo(self):\n",
        "        return self.bar()\n",
        "    "
      ],
      "execution_count": null,
      "outputs": []
    },
    {
      "cell_type": "code",
      "metadata": {
        "colab_type": "code",
        "id": "-8Uwhm_wUixH",
        "colab": {}
      },
      "source": [
        "# user.py\n",
        "#from . import Base\n",
        "\n",
        "class Derived(Base):\n",
        "     def bar(self):\n",
        "         return 'BAR'"
      ],
      "execution_count": null,
      "outputs": []
    },
    {
      "cell_type": "markdown",
      "metadata": {
        "colab_type": "text",
        "id": "iZt3V33APMq6"
      },
      "source": [
        "Core team wrote library code in assumption that vendor team has responsible developers and they will always write **bar** method.\n",
        "\n",
        "There could be a chance that core team do not have idea who or where this code is used.\n",
        "\n",
        "How can we make sure from core team point of view to make sure vendor team doen not screw up ?"
      ]
    },
    {
      "cell_type": "markdown",
      "metadata": {
        "id": "EW4Wg8JR9aGP",
        "colab_type": "text"
      },
      "source": [
        "# **First way** "
      ]
    },
    {
      "cell_type": "code",
      "metadata": {
        "colab_type": "code",
        "id": "r4LGjFyQSHf-",
        "colab": {}
      },
      "source": [
        "# library.py \n",
        "\n",
        "class Base(object):\n",
        "    \"\"\"\n",
        "    \"\"\"\n",
        "    def foo(self):\n",
        "        return self.bar()\n",
        "\n",
        "\n",
        "old_bc = __build_class__\n",
        "\n",
        "def my_bc(func, name, base=None, **kwargs):\n",
        "    \"\"\"\n",
        "    \"\"\"\n",
        "    if base is Base:\n",
        "        print('check if bar is defined...')\n",
        "    if base is not None:\n",
        "        return old_bc(func, name, base, **kwargs)\n",
        "    return old_bc(func, name, **kwargs)\n",
        "\n",
        "import builtins\n",
        "builtins.__build_class__ = my_bc"
      ],
      "execution_count": null,
      "outputs": []
    },
    {
      "cell_type": "code",
      "metadata": {
        "id": "zQR9t7Iw9aGV",
        "colab_type": "code",
        "colab": {}
      },
      "source": [
        "# user.py\n",
        "#from . import Base_1\n",
        "\n",
        "class Derived(Base):\n",
        "    pass"
      ],
      "execution_count": null,
      "outputs": []
    },
    {
      "cell_type": "markdown",
      "metadata": {
        "colab_type": "text",
        "id": "YMbYCX9xYPfP"
      },
      "source": [
        "# **Second way **"
      ]
    },
    {
      "cell_type": "code",
      "metadata": {
        "colab_type": "code",
        "id": "ggfxbrzaXk8G",
        "colab": {}
      },
      "source": [
        "# library.py\n",
        "\n",
        "class BaseMeta(type):\n",
        "    def __new__(cls, name, bases, body):\n",
        "        print(cls, name, bases, body)   # body --> ??\n",
        "        return super().__new__(cls, name, bases, body)\n",
        "\n",
        "class Base(metaclass=BaseMeta):\n",
        "    def foo(self):\n",
        "        return self.bar()\n",
        "\n"
      ],
      "execution_count": null,
      "outputs": []
    },
    {
      "cell_type": "code",
      "metadata": {
        "colab_type": "code",
        "id": "oIQLzyiAZNv-",
        "colab": {}
      },
      "source": [
        "# library.py\n",
        "\n",
        "class BaseMeta(type):\n",
        "    \"\"\"\n",
        "    \"\"\"\n",
        "    def __new__(cls, name, bases, body):\n",
        "        \"\"\"\n",
        "        \"\"\"\n",
        "        print(cls, name, bases)\n",
        "        # code cleaning is needed.\n",
        "        if name != 'Base' and not 'bar' in body:\n",
        "            raise TypeError('Bad user class...')\n",
        "        return super().__new__(cls, name, bases, body)\n",
        "\n",
        "class Base(metaclass=BaseMeta):\n",
        "    \"\"\"\n",
        "    \"\"\"\n",
        "    def foo(self):\n",
        "        return self.bar()\n",
        "\n",
        "\n",
        "# user.py\n",
        "\n",
        "class Expended(Base):\n",
        "     \"\"\"\n",
        "     \"\"\"\n",
        "     pass\n",
        "\n"
      ],
      "execution_count": null,
      "outputs": []
    },
    {
      "cell_type": "markdown",
      "metadata": {
        "colab_type": "text",
        "id": "lZFjgisWccOb"
      },
      "source": [
        "Let'add bar method --> "
      ]
    },
    {
      "cell_type": "code",
      "metadata": {
        "colab_type": "code",
        "id": "4qLFZ90TcalL",
        "colab": {}
      },
      "source": [
        "# library.py\n",
        "\n",
        "class BaseMeta(type):\n",
        "    \"\"\"\n",
        "    \"\"\"\n",
        "    def __new__(cls, name, bases, body):\n",
        "        \"\"\"\n",
        "        \"\"\"\n",
        "        print(cls, name, bases)\n",
        "        if name != 'BaseCopy' and not 'bar' in body:\n",
        "            raise TypeError('Bad user class...')\n",
        "        return super().__new__(cls, name, bases, body)\n",
        "\n",
        "class BaseCopy(metaclass=BaseMeta):\n",
        "    \"\"\"\n",
        "    \"\"\"\n",
        "    def foo(self):\n",
        "        return self.bar()\n",
        "\n",
        "#######################################################\n",
        "\n",
        "# user.py\n",
        "\n",
        "class Expended(BaseCopy):\n",
        "     \"\"\"\n",
        "     \"\"\"\n",
        "     def bar(self):\n",
        "         print('bar')\n",
        "\n"
      ],
      "execution_count": null,
      "outputs": []
    },
    {
      "cell_type": "markdown",
      "metadata": {
        "colab_type": "text",
        "id": "gbcoX-bCi9c9"
      },
      "source": [
        "we touched core code and yet we are able to enforce constraints on right side.\n",
        "Python provides these safety hooks.\n",
        "meta classes -- mechanism how classes are constructed.\n",
        "Reason i wanted to talk about it as people are meta classes are magical or complicated but we need to understand only when to use and where to use.\n",
        "We are controlling our library classes from core code with the help of metaclasses. \n"
      ]
    },
    {
      "cell_type": "markdown",
      "metadata": {
        "colab_type": "text",
        "id": "nVltLo-pjljE"
      },
      "source": [
        "there is one magical thing python provides --> \n",
        "**\\_\\_init_subclass\\_\\_**"
      ]
    },
    {
      "cell_type": "code",
      "metadata": {
        "colab_type": "code",
        "id": "mz-XabEXj3av",
        "colab": {}
      },
      "source": [
        "# library.py \n",
        "\n",
        "class Base3(object):\n",
        "    \"\"\"\n",
        "    \"\"\"\n",
        "    def __init_subclass__(cls, **kwargs):\n",
        "        if 'bar' not in cls.__dict__:\n",
        "            raise TypeError('Bad user class...')\n",
        "        super().__init_subclass__(**kwargs)\n",
        "\n",
        "    def foo(self):\n",
        "        return self.bar()\n",
        "\n"
      ],
      "execution_count": null,
      "outputs": []
    },
    {
      "cell_type": "code",
      "metadata": {
        "colab_type": "code",
        "id": "A0RNVfkGmF55",
        "colab": {}
      },
      "source": [
        "# library.py\n",
        "#from . import Base\n",
        "\n",
        "class Extended(Base3):\n",
        "    pass"
      ],
      "execution_count": null,
      "outputs": []
    },
    {
      "cell_type": "code",
      "metadata": {
        "colab_type": "code",
        "id": "aOZbtuYqpCGJ",
        "colab": {}
      },
      "source": [
        "# library.py\n",
        "#from . import Base\n",
        "\n",
        "class Extended(Base3):\n",
        "    def bar(self):\n",
        "        print('BAR')"
      ],
      "execution_count": null,
      "outputs": []
    }
  ]
}