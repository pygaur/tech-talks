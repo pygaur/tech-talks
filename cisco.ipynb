{
  "nbformat": 4,
  "nbformat_minor": 0,
  "metadata": {
    "colab": {
      "name": "tech-talk.ipynb",
      "provenance": [],
      "collapsed_sections": [],
      "authorship_tag": "ABX9TyOH8GFiI7KnDtxOl0odczmT",
      "include_colab_link": true
    },
    "kernelspec": {
      "name": "python3",
      "display_name": "Python 3"
    }
  },
  "cells": [
    {
      "cell_type": "markdown",
      "metadata": {
        "id": "view-in-github",
        "colab_type": "text"
      },
      "source": [
        "<a href=\"https://colab.research.google.com/github/pygaur/tech-talks/blob/master/cisco.ipynb\" target=\"_parent\"><img src=\"https://colab.research.google.com/assets/colab-badge.svg\" alt=\"Open In Colab\"/></a>"
      ]
    },
    {
      "cell_type": "markdown",
      "metadata": {
        "id": "3uHVKKSZENdt",
        "colab_type": "text"
      },
      "source": [
        "TO be effective in python , You required certain understanding  of couple of core mental models of a language understanding of the things the language comes with like the built-in data types and built-in functions , understanding of what's available in standard library. "
      ]
    },
    {
      "cell_type": "markdown",
      "metadata": {
        "id": "1-iArkQ1E_WQ",
        "colab_type": "text"
      },
      "source": [
        "We will focus on next step , if want to explore more than just being effective ."
      ]
    },
    {
      "cell_type": "markdown",
      "metadata": {
        "id": "f1mXYGtCFOQT",
        "colab_type": "text"
      },
      "source": [
        "Four features of python . but we will not talk about like the books talk. we will talk more about what these features mean for modeling core problems ."
      ]
    },
    {
      "cell_type": "markdown",
      "metadata": {
        "id": "U_s8p9NMGMPT",
        "colab_type": "text"
      },
      "source": [
        "Let's image we need to write a software for math problem and we need to design a polynomail. i will have a class here "
      ]
    },
    {
      "cell_type": "code",
      "metadata": {
        "id": "jfcg_M8bFMLX",
        "colab_type": "code",
        "colab": {}
      },
      "source": [
        "class Polynomial(object):\n",
        "    \"\"\"\n",
        "    \"\"\"\n",
        "    pass"
      ],
      "execution_count": null,
      "outputs": []
    },
    {
      "cell_type": "markdown",
      "metadata": {
        "id": "StqJDPPcGiUI",
        "colab_type": "text"
      },
      "source": [
        "I can create two polynomials "
      ]
    },
    {
      "cell_type": "code",
      "metadata": {
        "id": "tmkNHScSF_oV",
        "colab_type": "code",
        "colab": {
          "base_uri": "https://localhost:8080/",
          "height": 51
        },
        "outputId": "07ba8815-965a-429e-832c-7559a52854b2"
      },
      "source": [
        "class Polynomial(object):\n",
        "    \"\"\"\n",
        "    \"\"\"\n",
        "    pass\n",
        "\n",
        "p1 = Polynomial()\n",
        "p2 = Polynomial()\n",
        "p1.coeffs = 1, 2, 3    # x2 + 2x + 3 \n",
        "p2.coeffs = 2, 4, 5    # 2x2 + 4x + 4\n",
        "\n",
        "print(p1 )\n",
        "print(p2 )"
      ],
      "execution_count": null,
      "outputs": [
        {
          "output_type": "stream",
          "text": [
            "<__main__.Polynomial object at 0x7f5d1a7470b8>\n",
            "<__main__.Polynomial object at 0x7f5d1a747320>\n"
          ],
          "name": "stdout"
        }
      ]
    },
    {
      "cell_type": "markdown",
      "metadata": {
        "id": "m4eOWSYOHJyK",
        "colab_type": "text"
      },
      "source": [
        "we would like to do math operation of these polynomials , add , substract , get details."
      ]
    },
    {
      "cell_type": "markdown",
      "metadata": {
        "id": "rpqmrkhnHSpm",
        "colab_type": "text"
      },
      "source": [
        "issue with above code ^^^ code is in 4 lines , we can do all with 2 lines only. \n",
        "\n"
      ]
    },
    {
      "cell_type": "code",
      "metadata": {
        "id": "7IJ9w9KSHR7i",
        "colab_type": "code",
        "colab": {
          "base_uri": "https://localhost:8080/",
          "height": 51
        },
        "outputId": "7bcdcc54-bdf0-4198-9afd-16d91a4aa77e"
      },
      "source": [
        "class Polynomial(object):\n",
        "    \"\"\"\n",
        "    \"\"\"\n",
        "    def __init__(self, *coeffs):\n",
        "        \"\"\"\n",
        "        \"\"\"\n",
        "        self.coeffs = coeffs\n",
        "p1 = Polynomial(1, 2, 3 )\n",
        "p2 = Polynomial(2, 4, 5)\n",
        "print(p1)\n",
        "print(p2)"
      ],
      "execution_count": null,
      "outputs": [
        {
          "output_type": "stream",
          "text": [
            "<__main__.Polynomial object at 0x7f5d1a716d30>\n",
            "<__main__.Polynomial object at 0x7f5d1a716b38>\n"
          ],
          "name": "stdout"
        }
      ]
    },
    {
      "cell_type": "markdown",
      "metadata": {
        "id": "BCofnJTwIf7x",
        "colab_type": "text"
      },
      "source": [
        "can you see issue with above code , that looks ugly when we prints p1 and p2."
      ]
    },
    {
      "cell_type": "code",
      "metadata": {
        "id": "ilOZMYlBHRh0",
        "colab_type": "code",
        "colab": {
          "base_uri": "https://localhost:8080/",
          "height": 51
        },
        "outputId": "36296082-4959-4ede-b100-d1b0c31cd327"
      },
      "source": [
        "class Polynomial(object):\n",
        "    \"\"\"\n",
        "    \"\"\"\n",
        "    def __init__(self, *coeffs):\n",
        "        \"\"\"\n",
        "        \"\"\"\n",
        "        self.coeffs = coeffs\n",
        "    \n",
        "    def __repr__(self):\n",
        "        \"\"\"\n",
        "        \"\"\"\n",
        "        return f\"Polynomial(*{self.coeffs})\"\n",
        "p1 = Polynomial(1, 2, 3 )\n",
        "p2 = Polynomial(2, 4, 5)\n",
        "print(p1)\n",
        "print(p2)"
      ],
      "execution_count": null,
      "outputs": [
        {
          "output_type": "stream",
          "text": [
            "Polynomial(*(1, 2, 3))\n",
            "Polynomial(*(2, 4, 5))\n"
          ],
          "name": "stdout"
        }
      ]
    },
    {
      "cell_type": "markdown",
      "metadata": {
        "id": "ED1c65ZcJKCt",
        "colab_type": "text"
      },
      "source": [
        "what if want to add there polynomails --> python will give us error"
      ]
    },
    {
      "cell_type": "code",
      "metadata": {
        "id": "ZZSR8Uv1Iqas",
        "colab_type": "code",
        "colab": {
          "base_uri": "https://localhost:8080/",
          "height": 164
        },
        "outputId": "fe5a0b94-7fe4-41d1-a025-51bfd1c90734"
      },
      "source": [
        "p1 + p2"
      ],
      "execution_count": null,
      "outputs": [
        {
          "output_type": "error",
          "ename": "TypeError",
          "evalue": "ignored",
          "traceback": [
            "\u001b[0;31m---------------------------------------------------------------------------\u001b[0m",
            "\u001b[0;31mTypeError\u001b[0m                                 Traceback (most recent call last)",
            "\u001b[0;32m<ipython-input-12-a0c3d63f397c>\u001b[0m in \u001b[0;36m<module>\u001b[0;34m()\u001b[0m\n\u001b[0;32m----> 1\u001b[0;31m \u001b[0mp1\u001b[0m \u001b[0;34m+\u001b[0m \u001b[0mp2\u001b[0m\u001b[0;34m\u001b[0m\u001b[0;34m\u001b[0m\u001b[0m\n\u001b[0m",
            "\u001b[0;31mTypeError\u001b[0m: unsupported operand type(s) for +: 'Polynomial' and 'Polynomial'"
          ]
        }
      ]
    },
    {
      "cell_type": "code",
      "metadata": {
        "id": "yWz5xoPGJTKV",
        "colab_type": "code",
        "colab": {
          "base_uri": "https://localhost:8080/",
          "height": 34
        },
        "outputId": "3d8530fb-18a1-4f8d-f624-fc33605a901b"
      },
      "source": [
        "class Polynomial(object):\n",
        "    \"\"\"\n",
        "    \"\"\"\n",
        "    def __init__(self, *coeffs):\n",
        "        \"\"\"\n",
        "        \"\"\"\n",
        "        self.coeffs = coeffs\n",
        "    \n",
        "    def __repr__(self):\n",
        "        \"\"\"\n",
        "        \"\"\"\n",
        "        return f\"Polynomial(*{self.coeffs})\"\n",
        "    \n",
        "    def __add__(self, other):\n",
        "        \"\"\"\n",
        "        \"\"\"\n",
        "        return Polynomial(*(x+y for x,y in zip(self.coeffs, other.coeffs)))\n",
        "p1 = Polynomial(1, 2, 3 )\n",
        "p2 = Polynomial(2, 4, 5)\n",
        "print(p1+p2)"
      ],
      "execution_count": null,
      "outputs": [
        {
          "output_type": "stream",
          "text": [
            "Polynomial(*(3, 6, 8))\n"
          ],
          "name": "stdout"
        }
      ]
    },
    {
      "cell_type": "markdown",
      "metadata": {
        "id": "8_5SgjizKMXb",
        "colab_type": "text"
      },
      "source": [
        "can you see pattern here ? we have some behaviour that i want to implement and i write some underscore functions. we python developer calls them magic method or double underscore methods"
      ]
    },
    {
      "cell_type": "markdown",
      "metadata": {
        "id": "X7JHxYc3Keas",
        "colab_type": "text"
      },
      "source": [
        "we call them data model methods. https://docs.python.org/3/reference/datamodel.html . this URl has all these methods at one place. when we want to implement some behavior in python , we want to tell  python for this arbitary object do this behaviour , give me something that is principle representation of this object "
      ]
    },
    {
      "cell_type": "markdown",
      "metadata": {
        "id": "8oLzTVwFLPiH",
        "colab_type": "text"
      },
      "source": [
        "we always see these common pattern ."
      ]
    },
    {
      "cell_type": "markdown",
      "metadata": {
        "id": "3T6rm5U1LWOW",
        "colab_type": "text"
      },
      "source": [
        "top level function of top level system --> corrospinding __ method."
      ]
    },
    {
      "cell_type": "markdown",
      "metadata": {
        "id": "Mob8sD4kLsVm",
        "colab_type": "text"
      },
      "source": [
        "Exact argument this __ function takes will be determined by above document page , for __add__  , self , another , these are two arguments. "
      ]
    },
    {
      "cell_type": "markdown",
      "metadata": {
        "id": "KX65hNXeL6Kz",
        "colab_type": "text"
      },
      "source": [
        "there is a pattern we are seeing, to add we are calling __add__ , to display __repr__"
      ]
    },
    {
      "cell_type": "markdown",
      "metadata": {
        "id": "qwTtkhDsMEOX",
        "colab_type": "text"
      },
      "source": [
        "what if we want length of polynomial ( which is highest degree of polynomial ) "
      ]
    },
    {
      "cell_type": "code",
      "metadata": {
        "id": "3hsugQF1KY7a",
        "colab_type": "code",
        "colab": {
          "base_uri": "https://localhost:8080/",
          "height": 34
        },
        "outputId": "c113269a-0c12-42ac-c20a-502b5ecf8579"
      },
      "source": [
        "class Polynomial(object):\n",
        "    \"\"\"\n",
        "    \"\"\"\n",
        "    def __init__(self, *coeffs):\n",
        "        \"\"\"\n",
        "        \"\"\"\n",
        "        self.coeffs = coeffs\n",
        "    \n",
        "    def __repr__(self):\n",
        "        \"\"\"\n",
        "        \"\"\"\n",
        "        return f\"Polynomial(*{self.coeffs})\"\n",
        "    \n",
        "    def __add__(self, other):\n",
        "        \"\"\"\n",
        "        \"\"\"\n",
        "        return Polynomial(*(x+y for x,y in zip(self.coeffs, other.coeffs)))\n",
        "    \n",
        "    def __len__(self):\n",
        "        \"\"\"\n",
        "        \"\"\"\n",
        "        return len(self.coeffs)\n",
        "p1 = Polynomial(1, 2, 3 )\n",
        "print(len(p1))"
      ],
      "execution_count": null,
      "outputs": [
        {
          "output_type": "stream",
          "text": [
            "3\n"
          ],
          "name": "stdout"
        }
      ]
    },
    {
      "cell_type": "markdown",
      "metadata": {
        "id": "iFJmbDFvMabu",
        "colab_type": "text"
      },
      "source": [
        "python data model is a means by which you can implement protocols , protocols have some abstract meaning , like we added two polynomial .in each case the protocol exists , there is a underscore method. "
      ]
    },
    {
      "cell_type": "markdown",
      "metadata": {
        "id": "SNez1PRuNMUb",
        "colab_type": "text"
      },
      "source": [
        "if we want \n",
        "\n",
        "*   call protocol  ,   () after object  --> __call__ , no real case in current example. \n",
        "*   List item\n",
        "\n"
      ]
    },
    {
      "cell_type": "markdown",
      "metadata": {
        "id": "4MVt8IJkNjEg",
        "colab_type": "text"
      },
      "source": [
        "we are talking about three view of python\n",
        "1. protocol view of python ( talking right now ) \n",
        "2. built in inheritence \n",
        "2. how OO works in python"
      ]
    },
    {
      "cell_type": "markdown",
      "metadata": {
        "id": "qz5DjROkOZZr",
        "colab_type": "text"
      },
      "source": [
        "Now i am going to talk about a feature you may have warned about. you must have seen this while using some python libraries like Django.People whisper about it . Let's look into this new feature for our road to show python's protocoal oriented view. "
      ]
    },
    {
      "cell_type": "markdown",
      "metadata": {
        "id": "XhF1LE8AO8O7",
        "colab_type": "text"
      },
      "source": [
        "Metaclasses -->  complicated thing in the world , magical , no sense "
      ]
    },
    {
      "cell_type": "markdown",
      "metadata": {
        "id": "Oo15oDd-PBp_",
        "colab_type": "text"
      },
      "source": [
        "in really it's just a feature , we just need to understand why and when to use it. you do not need to use it all the time . "
      ]
    },
    {
      "cell_type": "markdown",
      "metadata": {
        "id": "GJJjXu44PkBo",
        "colab_type": "text"
      },
      "source": [
        "Let's imagine there are two groups working on a peice of software\n",
        "\n",
        "*   core team ( creating core libraries ) \n",
        "*   Vendor team ( use core libraries for business problem solving)\n",
        "\n"
      ]
    },
    {
      "cell_type": "markdown",
      "metadata": {
        "id": "-gFB7YNmRxyL",
        "colab_type": "text"
      },
      "source": [
        "Core library code. codebase is only managed by core team , no vendor team member can touch it "
      ]
    },
    {
      "cell_type": "code",
      "metadata": {
        "id": "gyQYI6IcRmcI",
        "colab_type": "code",
        "colab": {}
      },
      "source": [
        "# core.py ,  \n",
        "class Base(object):\n",
        "    \"\"\"\n",
        "    \"\"\"\n",
        "    pass"
      ],
      "execution_count": null,
      "outputs": []
    },
    {
      "cell_type": "code",
      "metadata": {
        "id": "YAR2DOq6RmoJ",
        "colab_type": "code",
        "colab": {}
      },
      "source": [
        "Vendor libray code. Only managed by vendor team. we use core team's code. no way to change code of core team."
      ],
      "execution_count": null,
      "outputs": []
    },
    {
      "cell_type": "code",
      "metadata": {
        "id": "GOXpOdqoR2jS",
        "colab_type": "code",
        "colab": {}
      },
      "source": [
        "from . import Base\n",
        "\n",
        " class Derived(Base):\n",
        "     \"\"\"\n",
        "     \"\"\"\n",
        "    pass"
      ],
      "execution_count": null,
      "outputs": []
    },
    {
      "cell_type": "code",
      "metadata": {
        "id": "C0JDafYSSDw9",
        "colab_type": "code",
        "colab": {}
      },
      "source": [
        "Let's add few more code to each side. "
      ],
      "execution_count": null,
      "outputs": []
    },
    {
      "cell_type": "code",
      "metadata": {
        "id": "tj_4sSmbP0i5",
        "colab_type": "code",
        "colab": {}
      },
      "source": [
        "# core.py \n",
        "class Base(object):\n",
        "    \"\"\"\n",
        "    \"\"\"\n",
        "    def foo(self):\n",
        "        return 'FOO'"
      ],
      "execution_count": null,
      "outputs": []
    },
    {
      "cell_type": "code",
      "metadata": {
        "id": "1DHHDNiARPXl",
        "colab_type": "code",
        "colab": {}
      },
      "source": [
        "from . import Base\n",
        "\n",
        "class Expended(Base):\n",
        "     \"\"\"\n",
        "     \"\"\"\n",
        "\n",
        "     def bar(self):\n",
        "         \"\"\"\n",
        "         \"\"\"\n",
        "         return self.foo() + ' BAR'"
      ],
      "execution_count": null,
      "outputs": []
    },
    {
      "cell_type": "markdown",
      "metadata": {
        "id": "T36swpfrSgrT",
        "colab_type": "text"
      },
      "source": [
        "where can above code break ???\n",
        "if no foo method , what can we do to make sure library has foo method . so we can know it before it hits the runtime deployment.\n",
        "what can we do make sure our code never breaks in runtime ??"
      ]
    },
    {
      "cell_type": "code",
      "metadata": {
        "id": "arT1QGJtRr8f",
        "colab_type": "code",
        "colab": {}
      },
      "source": [
        "from . import Base\n",
        "\n",
        "assert hasattr(Base, 'foo'), 'Idiots....'\n",
        "class Expended(Base):\n",
        "     \"\"\"\n",
        "     \"\"\"\n",
        "\n",
        "     def bar(self):\n",
        "         \"\"\"\n",
        "         \"\"\"\n",
        "         return self.foo() + ' BAR'"
      ],
      "execution_count": null,
      "outputs": []
    },
    {
      "cell_type": "markdown",
      "metadata": {
        "id": "T265ygRvRDIy",
        "colab_type": "text"
      },
      "source": [
        "with above code we are enforce some constraints on user code. derived class is inforcing contraints on base class. \n",
        "if you do not have this method , i wil fail loudly. "
      ]
    },
    {
      "cell_type": "markdown",
      "metadata": {
        "id": "3vl40F7xTtCx",
        "colab_type": "text"
      },
      "source": [
        "Let's FLIP --> \n",
        "1. core team wrote some in assumptiont that vendor team's responsible developer will write a required method. may be core team do not have idea who is using this code.\n",
        "how can we make sure from core team point of view to make sure vendor team doen not screw up."
      ]
    },
    {
      "cell_type": "code",
      "metadata": {
        "id": "3_V8OVMFTxmm",
        "colab_type": "code",
        "colab": {}
      },
      "source": [
        "# core.py \n",
        "class Base(object):\n",
        "    \"\"\"\n",
        "    \"\"\"\n",
        "    def foo(self):\n",
        "        return self.bar()"
      ],
      "execution_count": null,
      "outputs": []
    },
    {
      "cell_type": "code",
      "metadata": {
        "id": "-8Uwhm_wUixH",
        "colab_type": "code",
        "colab": {}
      },
      "source": [
        "from . import Base\n",
        "\n",
        "class Expended(Base):\n",
        "     \"\"\"\n",
        "     \"\"\"\n",
        "\n",
        "     def bar(self):\n",
        "         \"\"\"\n",
        "         \"\"\"\n",
        "         return 'BAR'"
      ],
      "execution_count": null,
      "outputs": []
    },
    {
      "cell_type": "markdown",
      "metadata": {
        "id": "9GkKGnN7UL8p",
        "colab_type": "text"
      },
      "source": [
        "we can not do same assert statmenent here . does not make sense."
      ]
    },
    {
      "cell_type": "markdown",
      "metadata": {
        "id": "XwmAclrsUR9q",
        "colab_type": "text"
      },
      "source": [
        "3 answers -\n",
        "1. metaclass\n",
        "2. "
      ]
    }
  ]
}