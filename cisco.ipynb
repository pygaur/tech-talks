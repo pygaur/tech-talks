{
  "nbformat": 4,
  "nbformat_minor": 0,
  "metadata": {
    "colab": {
      "name": "tech-talk.ipynb",
      "provenance": [],
      "private_outputs": true,
      "collapsed_sections": [],
      "authorship_tag": "ABX9TyPLzNqKXqcwD8FZfnv2IvQQ",
      "include_colab_link": true
    },
    "kernelspec": {
      "name": "python3",
      "display_name": "Python 3"
    }
  },
  "cells": [
    {
      "cell_type": "markdown",
      "metadata": {
        "id": "view-in-github",
        "colab_type": "text"
      },
      "source": [
        "<a href=\"https://colab.research.google.com/github/pygaur/tech-talks/blob/master/cisco.ipynb\" target=\"_parent\"><img src=\"https://colab.research.google.com/assets/colab-badge.svg\" alt=\"Open In Colab\"/></a>"
      ]
    },
    {
      "cell_type": "markdown",
      "metadata": {
        "id": "3uHVKKSZENdt",
        "colab_type": "text"
      },
      "source": [
        "To be effective in python,You require certain understanding of couple of core mental models of a language with understanding the things the language comes with.\n",
        "Like the built-in data types, built-in functions and understanding of what's available in standard library."
      ]
    },
    {
      "cell_type": "markdown",
      "metadata": {
        "id": "1-iArkQ1E_WQ",
        "colab_type": "text"
      },
      "source": [
        "Let's see how can we be more effective by understanding these concepts."
      ]
    },
    {
      "cell_type": "markdown",
      "metadata": {
        "id": "f1mXYGtCFOQT",
        "colab_type": "text"
      },
      "source": [
        "In this session we will talk about Four features of python. We will not talk about like the books talk.\n",
        "we will talk more about what these features mean for modeling core problems ."
      ]
    },
    {
      "cell_type": "markdown",
      "metadata": {
        "id": "U_s8p9NMGMPT",
        "colab_type": "text"
      },
      "source": [
        "Let's image we need to write a software for math problem and we need to design a polynomail.\n",
        "Let's create a class in python - "
      ]
    },
    {
      "cell_type": "code",
      "metadata": {
        "id": "jfcg_M8bFMLX",
        "colab_type": "code",
        "colab": {}
      },
      "source": [
        "class Polynomial(object):\n",
        "    \"\"\"\n",
        "    \"\"\"\n",
        "    pass"
      ],
      "execution_count": null,
      "outputs": []
    },
    {
      "cell_type": "markdown",
      "metadata": {
        "id": "StqJDPPcGiUI",
        "colab_type": "text"
      },
      "source": [
        "Let's create two polynomials -"
      ]
    },
    {
      "cell_type": "code",
      "metadata": {
        "id": "tmkNHScSF_oV",
        "colab_type": "code",
        "colab": {}
      },
      "source": [
        "class Polynomial(object):\n",
        "    \"\"\"\n",
        "    \"\"\"\n",
        "    pass\n",
        "\n",
        "p1 = Polynomial()\n",
        "p2 = Polynomial()\n",
        "p1.coeffs = 1, 2, 3    # x2 + 2x + 3 \n",
        "p2.coeffs = 2, 4, 5    # 2x2 + 4x + 4\n",
        "\n",
        "print(p1 )\n",
        "print(p2 )"
      ],
      "execution_count": null,
      "outputs": []
    },
    {
      "cell_type": "markdown",
      "metadata": {
        "id": "m4eOWSYOHJyK",
        "colab_type": "text"
      },
      "source": [
        "we would like to do math operation of these polynomials\n",
        "\n",
        "*   add\n",
        "*   substract\n",
        "*   get details\n",
        "*   get length\n",
        "\n",
        "etc...\n",
        "\n"
      ]
    },
    {
      "cell_type": "markdown",
      "metadata": {
        "id": "rpqmrkhnHSpm",
        "colab_type": "text"
      },
      "source": [
        "issue with above code is that it is in 4 lines , why can't we do it in less lines. ? \n",
        "\n"
      ]
    },
    {
      "cell_type": "code",
      "metadata": {
        "id": "7IJ9w9KSHR7i",
        "colab_type": "code",
        "colab": {}
      },
      "source": [
        "class Polynomial(object):\n",
        "    \"\"\"\n",
        "    \"\"\"\n",
        "    def __init__(self, *coeffs):\n",
        "        \"\"\"\n",
        "        \"\"\"\n",
        "        self.coeffs = coeffs\n",
        "p1 = Polynomial(1, 2, 3 )\n",
        "p2 = Polynomial(2, 4, 5)\n",
        "print(p1)\n",
        "print(p2)"
      ],
      "execution_count": null,
      "outputs": []
    },
    {
      "cell_type": "markdown",
      "metadata": {
        "id": "BCofnJTwIf7x",
        "colab_type": "text"
      },
      "source": [
        "can you see issue with above code , that looks ugly when we prints p1 and p2."
      ]
    },
    {
      "cell_type": "code",
      "metadata": {
        "id": "ilOZMYlBHRh0",
        "colab_type": "code",
        "colab": {}
      },
      "source": [
        "class Polynomial(object):\n",
        "    \"\"\"\n",
        "    \"\"\"\n",
        "    def __init__(self, *coeffs):\n",
        "        \"\"\"\n",
        "        \"\"\"\n",
        "        self.coeffs = coeffs\n",
        "    \n",
        "    def __repr__(self):\n",
        "        \"\"\"\n",
        "        \"\"\"\n",
        "        return f\"Polynomial(*{self.coeffs})\"\n",
        "p1 = Polynomial(1, 2, 3 )\n",
        "p2 = Polynomial(2, 4, 5)\n",
        "print(p1)\n",
        "print(p2)"
      ],
      "execution_count": null,
      "outputs": []
    },
    {
      "cell_type": "markdown",
      "metadata": {
        "id": "ED1c65ZcJKCt",
        "colab_type": "text"
      },
      "source": [
        "what if we want to add there polynomails ?"
      ]
    },
    {
      "cell_type": "code",
      "metadata": {
        "id": "ZZSR8Uv1Iqas",
        "colab_type": "code",
        "colab": {}
      },
      "source": [
        "p1 + p2"
      ],
      "execution_count": null,
      "outputs": []
    },
    {
      "cell_type": "markdown",
      "metadata": {
        "id": "bocYy0fFIJ1o",
        "colab_type": "text"
      },
      "source": [
        "Let's see what can we do for this."
      ]
    },
    {
      "cell_type": "code",
      "metadata": {
        "id": "yWz5xoPGJTKV",
        "colab_type": "code",
        "colab": {}
      },
      "source": [
        "class Polynomial(object):\n",
        "    \"\"\"\n",
        "    \"\"\"\n",
        "    def __init__(self, *coeffs):\n",
        "        \"\"\"\n",
        "        \"\"\"\n",
        "        self.coeffs = coeffs\n",
        "    \n",
        "    def __repr__(self):\n",
        "        \"\"\"\n",
        "        \"\"\"\n",
        "        return f\"Polynomial(*{self.coeffs})\"\n",
        "    \n",
        "    def __add__(self, other):\n",
        "        \"\"\"\n",
        "        \"\"\"\n",
        "        return Polynomial(*(x+y for x,y in zip(self.coeffs, other.coeffs)))\n",
        "        \n",
        "p1 = Polynomial(1, 2, 3 )\n",
        "p2 = Polynomial(2, 4, 5)\n",
        "print(p1+p2)"
      ],
      "execution_count": null,
      "outputs": []
    },
    {
      "cell_type": "markdown",
      "metadata": {
        "id": "8_5SgjizKMXb",
        "colab_type": "text"
      },
      "source": [
        "can we see a pattern here ? \n",
        "we have some behaviour that we want to implement and python provies us a way to do this by using underscore functions.\n",
        "we python developer calls them magic method , dunder methods or double underscore methods"
      ]
    },
    {
      "cell_type": "markdown",
      "metadata": {
        "id": "X7JHxYc3Keas",
        "colab_type": "text"
      },
      "source": [
        "we also call them data model methods. \n",
        "\n",
        "link --> https://docs.python.org/3/reference/datamodel.html .\n",
        "\n",
        "This URl has all these methods at one place. when we want to implement some behavior in python , we want to tell  python for this arbitary object do this behaviour , give me something that is principle representation of this object."
      ]
    },
    {
      "cell_type": "markdown",
      "metadata": {
        "id": "3T6rm5U1LWOW",
        "colab_type": "text"
      },
      "source": [
        "Every top level function has corrospinding underscore method."
      ]
    },
    {
      "cell_type": "markdown",
      "metadata": {
        "id": "3cWWJ5d8JgcC",
        "colab_type": "text"
      },
      "source": [
        ""
      ]
    },
    {
      "cell_type": "markdown",
      "metadata": {
        "id": "Mob8sD4kLsVm",
        "colab_type": "text"
      },
      "source": [
        "Exact argument this underscope methods takes will be determined by above document page.\n",
        "\n",
        "\n",
        "Example :  for __add__  (self , another)"
      ]
    },
    {
      "cell_type": "markdown",
      "metadata": {
        "id": "KX65hNXeL6Kz",
        "colab_type": "text"
      },
      "source": [
        "there is a pattern we are seeing, \n",
        "1. To add we are calling __add__\n",
        "2. To display we are calling __repr__"
      ]
    },
    {
      "cell_type": "markdown",
      "metadata": {
        "id": "qwTtkhDsMEOX",
        "colab_type": "text"
      },
      "source": [
        "what if we want length of polynomial ( which is highest degree of polynomial ) "
      ]
    },
    {
      "cell_type": "code",
      "metadata": {
        "id": "3hsugQF1KY7a",
        "colab_type": "code",
        "colab": {}
      },
      "source": [
        "class Polynomial(object):\n",
        "    \"\"\"\n",
        "    \"\"\"\n",
        "    def __init__(self, *coeffs):\n",
        "        \"\"\"\n",
        "        \"\"\"\n",
        "        self.coeffs = coeffs\n",
        "    \n",
        "    def __repr__(self):\n",
        "        \"\"\"\n",
        "        \"\"\"\n",
        "        return f\"Polynomial(*{self.coeffs})\"\n",
        "    \n",
        "    def __add__(self, other):\n",
        "        \"\"\"\n",
        "        \"\"\"\n",
        "        return Polynomial(*(x+y for x,y in zip(self.coeffs, other.coeffs)))\n",
        "    \n",
        "    def __len__(self):\n",
        "        \"\"\"\n",
        "        \"\"\"\n",
        "        return len(self.coeffs)\n",
        "p1 = Polynomial(1, 2, 3 )\n",
        "print(len(p1))"
      ],
      "execution_count": null,
      "outputs": []
    },
    {
      "cell_type": "markdown",
      "metadata": {
        "id": "iFJmbDFvMabu",
        "colab_type": "text"
      },
      "source": [
        ""
      ]
    },
    {
      "cell_type": "markdown",
      "metadata": {
        "id": "SNez1PRuNMUb",
        "colab_type": "text"
      },
      "source": [
        "if we want to implement - \n",
        "\n",
        "*   call protocol -    () after object  --> __call__ , no real case in current example.\n",
        "\n"
      ]
    },
    {
      "cell_type": "code",
      "metadata": {
        "id": "Rz0DCERIMl92",
        "colab_type": "code",
        "colab": {}
      },
      "source": [
        "class Polynomial(object):\n",
        "    \"\"\"\n",
        "    \"\"\"\n",
        "    def __init__(self, *coeffs):\n",
        "        \"\"\"\n",
        "        \"\"\"\n",
        "        self.coeffs = coeffs\n",
        "    \n",
        "    def __repr__(self):\n",
        "        \"\"\"\n",
        "        \"\"\"\n",
        "        return f\"Polynomial(*{self.coeffs})\"\n",
        "    \n",
        "    def __add__(self, other):\n",
        "        \"\"\"\n",
        "        \"\"\"\n",
        "        return Polynomial(*(x+y for x,y in zip(self.coeffs, other.coeffs)))\n",
        "    \n",
        "    def __len__(self):\n",
        "        \"\"\"\n",
        "        \"\"\"\n",
        "        return len(self.coeffs)\n",
        "    \n",
        "    def __call__(self):\n",
        "        \"\"\"\n",
        "        \"\"\"\n",
        "        print('I do not know why i did this.')\n",
        "p1 = Polynomial(1, 2, 3 )\n",
        "p1()"
      ],
      "execution_count": null,
      "outputs": []
    },
    {
      "cell_type": "markdown",
      "metadata": {
        "id": "4MVt8IJkNjEg",
        "colab_type": "text"
      },
      "source": [
        "We are talking about three view of python\n",
        "1. protocol view of python ( talking right now ) \n",
        "2. built in inheritence \n",
        "2. how OO works in python\n"
      ]
    },
    {
      "cell_type": "markdown",
      "metadata": {
        "id": "qz5DjROkOZZr",
        "colab_type": "text"
      },
      "source": [
        "Now Let's talk about a feature you may have warned about.\n",
        "\n",
        "You must have seen this while using some python libraries like Django.\n",
        "\n",
        "People whisper about it but never use.\n",
        "\n",
        "Let's look into this new feature for our road to show it's conribution in explaining python's protocoal oriented view. "
      ]
    },
    {
      "cell_type": "markdown",
      "metadata": {
        "id": "XhF1LE8AO8O7",
        "colab_type": "text"
      },
      "source": [
        "Metaclasses -->  complicated thing in the world , magical , no sense "
      ]
    },
    {
      "cell_type": "markdown",
      "metadata": {
        "id": "Oo15oDd-PBp_",
        "colab_type": "text"
      },
      "source": [
        "IOn really it's just a feature.\n",
        "\n",
        "We just need to understand why and when to use it and mostly you do not need to use it all the time . "
      ]
    },
    {
      "cell_type": "markdown",
      "metadata": {
        "id": "GJJjXu44PkBo",
        "colab_type": "text"
      },
      "source": [
        "Let's imagine there are two groups working on a peice of software\n",
        "\n",
        "*   core team (Creating core libraries ) \n",
        "*   Vendor team (Use core libraries to solve business problems)\n",
        "\n"
      ]
    },
    {
      "cell_type": "markdown",
      "metadata": {
        "id": "-gFB7YNmRxyL",
        "colab_type": "text"
      },
      "source": [
        "**Core library code** - codebase is only managed by core team.No vendor team member can touch it.\n",
        "\n",
        "\n",
        "**Vendor libray code** -  Only managed by vendor team.\n",
        "Use core team's code. No way to change code of core team"
      ]
    },
    {
      "cell_type": "code",
      "metadata": {
        "id": "gyQYI6IcRmcI",
        "colab_type": "code",
        "colab": {}
      },
      "source": [
        "# core.py ,  \n",
        "class Base(object):\n",
        "    \"\"\"\n",
        "    \"\"\"\n",
        "    pass"
      ],
      "execution_count": null,
      "outputs": []
    },
    {
      "cell_type": "code",
      "metadata": {
        "id": "GOXpOdqoR2jS",
        "colab_type": "code",
        "colab": {}
      },
      "source": [
        "# user.py\n",
        "from . import Base\n",
        "\n",
        "class Derived(Base):\n",
        "    \"\"\"\n",
        "    \"\"\"\n",
        "    pass"
      ],
      "execution_count": null,
      "outputs": []
    },
    {
      "cell_type": "markdown",
      "metadata": {
        "id": "0fO4CEycOKPq",
        "colab_type": "text"
      },
      "source": [
        "Let's add some more code................\n"
      ]
    },
    {
      "cell_type": "code",
      "metadata": {
        "id": "tj_4sSmbP0i5",
        "colab_type": "code",
        "colab": {}
      },
      "source": [
        "# core.py \n",
        "class Base(object):\n",
        "    \"\"\"\n",
        "    \"\"\"\n",
        "    def foo(self):\n",
        "        return 'FOO'"
      ],
      "execution_count": null,
      "outputs": []
    },
    {
      "cell_type": "code",
      "metadata": {
        "id": "1DHHDNiARPXl",
        "colab_type": "code",
        "colab": {}
      },
      "source": [
        "# user.py\n",
        "from . import Base\n",
        "\n",
        "class Expended(Base):\n",
        "     \"\"\"\n",
        "     \"\"\"\n",
        "\n",
        "     def bar(self):\n",
        "         \"\"\"\n",
        "         \"\"\"\n",
        "         return self.foo()"
      ],
      "execution_count": null,
      "outputs": []
    },
    {
      "cell_type": "markdown",
      "metadata": {
        "id": "T36swpfrSgrT",
        "colab_type": "text"
      },
      "source": [
        "where can above code break ???\n",
        "if no foo method , what can we do to make sure library has foo method . so we can know it before it hits the runtime deployment.\n",
        "what can we do make sure our code never breaks in runtime ??"
      ]
    },
    {
      "cell_type": "code",
      "metadata": {
        "id": "arT1QGJtRr8f",
        "colab_type": "code",
        "colab": {}
      },
      "source": [
        "# user.py\n",
        "from . import Base\n",
        "\n",
        "assert hasattr(Base, 'foo'), 'Ohh...we need to talk to core team about this foo method'\n",
        "\n",
        "class Expended(Base):\n",
        "     \"\"\"\n",
        "     \"\"\"\n",
        "     def bar(self):\n",
        "         \"\"\"\n",
        "         \"\"\"\n",
        "         return self.foo() "
      ],
      "execution_count": null,
      "outputs": []
    },
    {
      "cell_type": "markdown",
      "metadata": {
        "id": "T265ygRvRDIy",
        "colab_type": "text"
      },
      "source": [
        "With above code we are enforcing some constraints on user code. \n",
        "\n",
        "Derived class is inforcing contraints on base class. \n",
        "\n",
        "If you do not have this method , i wil fail loudly. "
      ]
    },
    {
      "cell_type": "markdown",
      "metadata": {
        "id": "3vl40F7xTtCx",
        "colab_type": "text"
      },
      "source": [
        "***Let's ԀI˥Ⅎ it here.***  ...................\n"
      ]
    },
    {
      "cell_type": "code",
      "metadata": {
        "id": "3_V8OVMFTxmm",
        "colab_type": "code",
        "colab": {}
      },
      "source": [
        "# core.py \n",
        "class Base(object):\n",
        "    \"\"\"\n",
        "    \"\"\"\n",
        "    def foo(self):\n",
        "        return self.bar()"
      ],
      "execution_count": null,
      "outputs": []
    },
    {
      "cell_type": "code",
      "metadata": {
        "id": "-8Uwhm_wUixH",
        "colab_type": "code",
        "colab": {}
      },
      "source": [
        "from . import Base\n",
        "\n",
        "class Expended(Base):\n",
        "     \"\"\"\n",
        "     \"\"\"\n",
        "\n",
        "     def bar(self):\n",
        "         \"\"\"\n",
        "         \"\"\"\n",
        "         return 'BAR'"
      ],
      "execution_count": null,
      "outputs": []
    },
    {
      "cell_type": "markdown",
      "metadata": {
        "id": "iZt3V33APMq6",
        "colab_type": "text"
      },
      "source": [
        "Core team wrote in assumption that vendor team has responsible developers and they will always write **bar** method.\n",
        "There could be a chance that core team do not have idea who or where this code is used.\n",
        "\n",
        "How can we make sure from core team point of view to make sure vendor team doen not screw up. ?"
      ]
    },
    {
      "cell_type": "code",
      "metadata": {
        "id": "7jCvEhAtQXY-",
        "colab_type": "code",
        "colab": {}
      },
      "source": [
        "# core.py \n",
        "class Base(object):\n",
        "    \"\"\"\n",
        "    \"\"\"\n",
        "    def foo(self):\n",
        "        return self.bar()\n",
        "\n",
        "\n",
        "old_bc = __build_class__\n",
        "\n",
        "def my_bc(*args, **kwargs):\n",
        "    \"\"\"\n",
        "    \"\"\"\n",
        "    print(\"My builtin class \", *args, **kwargs)\n",
        "    return old_bc(*args, **kwargs)\n",
        "\n",
        "import builtins\n",
        "builtins.__build_class__ = my_bc"
      ],
      "execution_count": null,
      "outputs": []
    },
    {
      "cell_type": "code",
      "metadata": {
        "id": "r4LGjFyQSHf-",
        "colab_type": "code",
        "colab": {}
      },
      "source": [
        "# core.py \n",
        "class Base(object):\n",
        "    \"\"\"\n",
        "    \"\"\"\n",
        "    def foo(self):\n",
        "        return self.bar()\n",
        "\n",
        "\n",
        "old_bc = __build_class__\n",
        "\n",
        "def my_bc(func, name, base=None, **kwargs):\n",
        "    \"\"\"\n",
        "    \"\"\"\n",
        "    if base is Base:\n",
        "        print('check if bar is defined...')\n",
        "    if base is not None:\n",
        "        return old_bc(func, name, base, **kwargs)\n",
        "    return old_bc(func, name, **kwargs)\n",
        "\n",
        "import builtins\n",
        "builtins.__build_class__ = my_bc"
      ],
      "execution_count": null,
      "outputs": []
    },
    {
      "cell_type": "code",
      "metadata": {
        "id": "lgoP-0V0VxfM",
        "colab_type": "code",
        "colab": {}
      },
      "source": [
        "# user.py\n",
        "from . import Base\n",
        "\n",
        "class Expended(Base):\n",
        "     \"\"\"\n",
        "     \"\"\"\n",
        "\n",
        "     def bar(self):\n",
        "         \"\"\"\n",
        "         \"\"\"\n",
        "         return 'BAR'"
      ],
      "execution_count": null,
      "outputs": []
    },
    {
      "cell_type": "markdown",
      "metadata": {
        "id": "YMbYCX9xYPfP",
        "colab_type": "text"
      },
      "source": [
        "Let's try to achieve same with another feature.( meta classes ) "
      ]
    },
    {
      "cell_type": "code",
      "metadata": {
        "id": "ggfxbrzaXk8G",
        "colab_type": "code",
        "colab": {}
      },
      "source": [
        "# core.py\n",
        "\n",
        "class BaseMeta(type):\n",
        "    \"\"\"\n",
        "    \"\"\"\n",
        "    def __new__(cls, name, bases, body):\n",
        "        \"\"\"\n",
        "        \"\"\"\n",
        "        print(cls, name, bases, body)   # body --> ??\n",
        "        return super().__new__(cls, name, bases, body)\n",
        "\n",
        "class Base(metaclass=BaseMeta):\n",
        "    \"\"\"\n",
        "    \"\"\"\n",
        "    def foo(self):\n",
        "        return self.bar()\n",
        "\n"
      ],
      "execution_count": null,
      "outputs": []
    },
    {
      "cell_type": "code",
      "metadata": {
        "id": "oIQLzyiAZNv-",
        "colab_type": "code",
        "colab": {}
      },
      "source": [
        "# core.py\n",
        "\n",
        "class BaseMeta(type):\n",
        "    \"\"\"\n",
        "    \"\"\"\n",
        "    def __new__(cls, name, bases, body):\n",
        "        \"\"\"\n",
        "        \"\"\"\n",
        "        print(cls, name, bases)\n",
        "        # code cleaning is needed.\n",
        "        if name == 'Base1':\n",
        "            return super().__new__(cls, name, bases, body)\n",
        "        if not 'bar' in body:\n",
        "            raise TypeError('Bad user class...')\n",
        "        return super().__new__(cls, name, bases, body)\n",
        "\n",
        "class Base1(metaclass=BaseMeta):\n",
        "    \"\"\"\n",
        "    \"\"\"\n",
        "    def foo(self):\n",
        "        return self.bar()\n",
        "\n",
        "\n",
        "# user.py\n",
        "\n",
        "\n",
        "class Expended(Base1):\n",
        "     \"\"\"\n",
        "     \"\"\"\n",
        "     pass\n",
        "\n"
      ],
      "execution_count": null,
      "outputs": []
    },
    {
      "cell_type": "markdown",
      "metadata": {
        "id": "lZFjgisWccOb",
        "colab_type": "text"
      },
      "source": [
        "Let'add bar method --> "
      ]
    },
    {
      "cell_type": "code",
      "metadata": {
        "id": "4qLFZ90TcalL",
        "colab_type": "code",
        "colab": {}
      },
      "source": [
        "# core.py\n",
        "\n",
        "class BaseMeta(type):\n",
        "    \"\"\"\n",
        "    \"\"\"\n",
        "    def __new__(cls, name, bases, body):\n",
        "        \"\"\"\n",
        "        \"\"\"\n",
        "        print(cls, name, bases)\n",
        "        if name == 'Base1':\n",
        "            return super().__new__(cls, name, bases, body)\n",
        "        if not 'bar' in body:\n",
        "            raise TypeError('Bad user class...')\n",
        "        return super().__new__(cls, name, bases, body)\n",
        "\n",
        "class Base1(metaclass=BaseMeta):\n",
        "    \"\"\"\n",
        "    \"\"\"\n",
        "    def foo(self):\n",
        "        return self.bar()\n",
        "\n",
        "\n",
        "# user.py\n",
        "\n",
        "\n",
        "class Expended(Base1):\n",
        "     \"\"\"\n",
        "     \"\"\"\n",
        "     def bar(self):\n",
        "         print('bar')\n",
        "\n"
      ],
      "execution_count": null,
      "outputs": []
    }
  ]
}